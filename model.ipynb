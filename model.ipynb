{
 "cells": [
  {
   "cell_type": "markdown",
   "metadata": {
    "collapsed": false
   },
   "source": [
    "# Triple MNIST recognition using CNN\n",
    "\n",
    "The model predicts 3-digit numbers written on the image. Each image contains 3 digits similar to the\n",
    "following example (whose label is `039`):\n",
    "\n",
    "![example](https://github.com/shaohua0116/MultiDigitMNIST/blob/master/asset/examples/039/0_039.png?raw=true)\n",
    "\n",
    "My solution contains:\n",
    "- Digit cropper (opencv). By cropping the digits from images, I reduced the triple MNIST problem into simple MNIST\n",
    "- Custom PyTorch DataLoader implementation\n",
    "- Image augmentations\n",
    "- CNN model for digits classification\n",
    "- Automated fine-tuning of the model architecture. You can specify value ranges and run Optuna trials for the following hyperparameters: number of layers, number of filters, activation function, learning rate, momentum, regularization\n"
   ]
  },
  {
   "cell_type": "code",
   "execution_count": 27,
   "metadata": {
    "collapsed": false
   },
   "outputs": [],
   "source": [
    "import numpy as np\n",
    "import pandas as pd\n",
    "import torch\n",
    "import torch.nn as nn\n",
    "import torch.nn.functional as F\n",
    "from torchvision import transforms, datasets\n",
    "from torch.utils.data import DataLoader\n",
    "from sklearn.model_selection import train_test_split\n",
    "import optuna\n",
    "from optuna.samplers import TPESampler\n",
    "import os\n",
    "from matplotlib import pyplot as plt\n",
    "from torch.utils.data import Dataset\n",
    "import cv2\n",
    "from typing import Tuple, NamedTuple, List\n",
    "from tqdm import tqdm\n",
    "import time\n",
    "from sklearn.model_selection import GridSearchCV\n",
    "from sklearn.tree import DecisionTreeClassifier\n",
    "from sklearn.ensemble import RandomForestClassifier\n",
    "from sklearn.model_selection import cross_val_score\n",
    "from sklearn.tree import export_graphviz\n",
    "import graphviz\n",
    "\n",
    "RANDOM_STATE = 42\n",
    "DEVICE = torch.device(\"cuda\" if torch.cuda.is_available() else \"cpu\")\n",
    "LOG_INTERVAL = 100\n",
    "optuna.logging.set_verbosity(optuna.logging.INFO)"
   ]
  },
  {
   "cell_type": "markdown",
   "metadata": {
    "collapsed": false
   },
   "source": [
    "### Model"
   ]
  },
  {
   "cell_type": "markdown",
   "metadata": {
    "collapsed": false
   },
   "source": [
    "### Data processing"
   ]
  },
  {
   "cell_type": "code",
   "execution_count": 55,
   "metadata": {
    "collapsed": false
   },
   "outputs": [],
   "source": [
    "CLASSES = [digit for digit in range(10)]\n",
    "NUM_CLASSES = len(CLASSES)\n",
    "NUM_DIGITS = 3"
   ]
  },
  {
   "cell_type": "markdown",
   "metadata": {
    "collapsed": false
   },
   "source": [
    "#### Digits Segmentation"
   ]
  },
  {
   "cell_type": "code",
   "execution_count": 56,
   "metadata": {
    "collapsed": false
   },
   "outputs": [],
   "source": [
    "DIGIT_WIDTH_HEIGHT = 28\n",
    "digit_shape = (DIGIT_WIDTH_HEIGHT, DIGIT_WIDTH_HEIGHT)\n",
    "\n",
    "def crop_digits(img_path: str = None, im = None):\n",
    "    if im is None:\n",
    "        im = cv2.imread(img_path)\n",
    "\n",
    "    # transform the image\n",
    "    gray = cv2.cvtColor(im, cv2.COLOR_BGR2GRAY)\n",
    "    blur = cv2.GaussianBlur(gray, (5, 5), 0)\n",
    "    thresh = cv2.threshold(blur, 90, 255, cv2.THRESH_BINARY+cv2.THRESH_OTSU)[1]\n",
    "\n",
    "    # find contours\n",
    "    contours, hierarchy = cv2.findContours(thresh, cv2.RETR_EXTERNAL, cv2.CHAIN_APPROX_SIMPLE)\n",
    "\n",
    "    digits = []\n",
    "    rect = im.copy()\n",
    "    for cnt in contours:\n",
    "        x, y, w, h = cv2.boundingRect(cnt)\n",
    "        # increase the borders a bit\n",
    "        x = max(x - 3, 0)\n",
    "        y = max(y - 3, 0)\n",
    "        w += 6\n",
    "        h += 6\n",
    "\n",
    "        del_x = int(w / 2)\n",
    "        del_y = int(h / 2)\n",
    "        center_x = x + del_x\n",
    "        center_y = y + del_y\n",
    "\n",
    "        lu_corner = (max(center_x - del_y, 0), y)\n",
    "        rd_corner = (max(center_x + del_y, 0), y + h)\n",
    "\n",
    "        # Drawing a rectangle on copied image\n",
    "        rect = cv2.rectangle(rect, lu_corner, rd_corner, (255, 0, 0), 2)\n",
    "\n",
    "        cropped = im[lu_corner[1]:rd_corner[1], lu_corner[0]:rd_corner[0]]\n",
    "        digits.append(cropped)\n",
    "\n",
    "    def filter_and_sort_digits(digits, contours):\n",
    "        # returns only actual digits from the digits list\n",
    "        # returns 3 digits with the number of pixels closest to the average\n",
    "        sizes = []\n",
    "        for digit in digits:\n",
    "            size = digit.shape[0] * digit.shape[1]\n",
    "            sizes.append(size)\n",
    "        avg_size = sum(sizes) / len(sizes)\n",
    "        deviations = [abs(size - avg_size) for size in sizes]\n",
    "\n",
    "        indices = np.argsort(deviations)[0:3]\n",
    "        digits = [digits[i] for i in indices]\n",
    "        contours = [cv2.boundingRect(contours[i]) for i in indices]\n",
    "\n",
    "        # sort by contour coordinate x\n",
    "        xs = [contour[0] for contour in contours]\n",
    "        indices = np.argsort(xs)\n",
    "        digits = [digits[i] for i in indices]\n",
    "\n",
    "        while len(digits) < NUM_DIGITS:\n",
    "            digits.append(digits[0])\n",
    "        return digits\n",
    "\n",
    "    digits = filter_and_sort_digits(digits, contours)\n",
    "    # resize each digit\n",
    "    digits = [cv2.resize(digit, digit_shape, interpolation = cv2.INTER_NEAREST) for digit in digits]\n",
    "\n",
    "    return digits, contours, rect"
   ]
  },
  {
   "cell_type": "markdown",
   "metadata": {
    "collapsed": false
   },
   "source": [
    "Display image and label:"
   ]
  },
  {
   "cell_type": "code",
   "execution_count": 57,
   "metadata": {
    "collapsed": false
   },
   "outputs": [
    {
     "name": "stdout",
     "output_type": "stream",
     "text": [
      "Label: 118\n",
      "crop shape: (28, 28, 3)\n",
      "crop shape: (28, 28, 3)\n",
      "crop shape: (28, 28, 3)\n"
     ]
    },
    {
     "data": {
      "image/png": "[encoded data removed]",
      "text/plain": [
       "<Figure size 800x800 with 4 Axes>"
      ]
     },
     "metadata": {},
     "output_type": "display_data"
    },
    {
     "name": "stdout",
     "output_type": "stream",
     "text": [
      "Label: 118\n",
      "crop shape: (28, 28, 3)\n",
      "crop shape: (28, 28, 3)\n",
      "crop shape: (28, 28, 3)\n"
     ]
    },
    {
     "data": {
      "image/png": "[encoded data removed]",
      "text/plain": [
       "<Figure size 800x800 with 4 Axes>"
      ]
     },
     "metadata": {},
     "output_type": "display_data"
    }
   ],
   "source": [
    "dir_path = \"triple_mnist/train/118\"\n",
    "for filename in os.listdir(dir_path)[0:2]:\n",
    "    img_path = os.path.join(dir_path, filename)\n",
    "\n",
    "    label = filename.split('_', maxsplit=1)[1].split('.', maxsplit=1)[0]\n",
    "    print(f\"Label: {label}\")\n",
    "\n",
    "    fig = plt.figure(figsize=(8, 8))\n",
    "    cols, rows = 3, 3\n",
    "\n",
    "    digits, contours, rect = crop_digits(img_path)\n",
    "\n",
    "    fig.add_subplot(rows, cols, 1)\n",
    "    plt.axis(\"off\")\n",
    "    plt.imshow(rect.squeeze())\n",
    "    for i in range(len(digits)):\n",
    "        img = digits[i]\n",
    "        fig.add_subplot(rows, cols, i+2)\n",
    "        plt.axis(\"off\")\n",
    "        plt.imshow(img.squeeze())\n",
    "        print(f\"crop shape: {img.shape}\")\n",
    "    plt.show()"
   ]
  },
  {
   "cell_type": "markdown",
   "metadata": {
    "collapsed": false
   },
   "source": [
    "#### Data Loading"
   ]
  },
  {
   "cell_type": "markdown",
   "metadata": {
    "collapsed": false
   },
   "source": [
    "Custom Data Loader for Triple MNIST:"
   ]
  },
  {
   "cell_type": "code",
   "execution_count": 58,
   "metadata": {
    "collapsed": false
   },
   "outputs": [],
   "source": [
    "class TripleMnistDataset(Dataset):\n",
    "    def __init__(self, img_dir, transform=None, table=None):\n",
    "        self.img_dir = img_dir\n",
    "        self.transform = transform\n",
    "\n",
    "        if table:\n",
    "            self.table = table\n",
    "        else:\n",
    "            self.table = self.fill_table()\n",
    "\n",
    "    def fill_table(self):\n",
    "        table = {}\n",
    "        idx = 0\n",
    "\n",
    "        for subdir in os.listdir(self.img_dir):\n",
    "            subdir_path = os.path.join(self.img_dir, subdir)\n",
    "            for img_filename in os.listdir(subdir_path):\n",
    "                img_path = os.path.join(subdir_path, img_filename)\n",
    "                labels = self.get_label(img_filename)\n",
    "\n",
    "                table[idx] = (img_path, labels)\n",
    "                idx += 1\n",
    "        return table\n",
    "\n",
    "    def __len__(self):\n",
    "        return sum([len(files) for _, _, files in os.walk(self.img_dir)])\n",
    "\n",
    "    def get_label(self, filename: str):\n",
    "        return [int(digit) for digit in filename.split('_', maxsplit=1)[1].split('.', maxsplit=1)[0]]\n",
    "\n",
    "    def __getitem__(self, idx):\n",
    "        img_path, labels = self.table[idx]\n",
    "        digits, _, _ = crop_digits(img_path)\n",
    "        if self.transform:\n",
    "            digits = [self.transform(digit) for digit in digits]\n",
    "        return digits, labels"
   ]
  },
  {
   "cell_type": "code",
   "execution_count": 59,
   "metadata": {
    "collapsed": false
   },
   "outputs": [
    {
     "name": "stdout",
     "output_type": "stream",
     "text": [
      "Train dataset size: 64000\n",
      "Validation dataset size: 16000\n",
      "Test dataset size: 20000\n"
     ]
    }
   ],
   "source": [
    "batch_size = 64\n",
    "test_batch_size = 20000\n",
    "\n",
    "triple_transforms = transforms.Compose([\n",
    "    transforms.ToPILImage(),\n",
    "    transforms.Grayscale(),\n",
    "    transforms.ToTensor(),\n",
    "    transforms.Normalize((0.1307), (0.3081)),\n",
    "])\n",
    "\n",
    "triple_train_data = TripleMnistDataset(img_dir=\"triple_mnist/train\", transform=triple_transforms)\n",
    "triple_val_data = TripleMnistDataset(img_dir=\"triple_mnist/val\", transform=triple_transforms)\n",
    "triple_test_data = TripleMnistDataset(img_dir=\"triple_mnist/test\", transform=triple_transforms)\n",
    "\n",
    "triple_train_loader = DataLoader(triple_train_data, batch_size=batch_size, shuffle=True)\n",
    "triple_val_loader = DataLoader(triple_val_data, batch_size=test_batch_size, shuffle=True)\n",
    "triple_test_loader = DataLoader(triple_test_data, batch_size=test_batch_size, shuffle=True)\n",
    "\n",
    "print(f\"Train dataset size: {len(triple_train_data)}\")\n",
    "print(f\"Validation dataset size: {len(triple_val_data)}\")\n",
    "print(f\"Test dataset size: {len(triple_test_data)}\")"
   ]
  },
  {
   "cell_type": "code",
   "execution_count": 60,
   "metadata": {
    "collapsed": false
   },
   "outputs": [
    {
     "name": "stdout",
     "output_type": "stream",
     "text": [
      "Digit shape: torch.Size([64, 1, 28, 28])\n",
      "Digit type: <class 'torch.Tensor'>\n",
      "Target len: 64\n",
      "Target type: <class 'torch.Tensor'>\n",
      "\n",
      "Digit at position 1\n"
     ]
    },
    {
     "data": {
      "image/png": "[encoded data removed]",
      "text/plain": [
       "<Figure size 640x480 with 1 Axes>"
      ]
     },
     "metadata": {},
     "output_type": "display_data"
    },
    {
     "name": "stdout",
     "output_type": "stream",
     "text": [
      "Label: 2\n",
      "Digit at position 2\n"
     ]
    },
    {
     "data": {
      "image/png": "[encoded data removed]",
      "text/plain": [
       "<Figure size 640x480 with 1 Axes>"
      ]
     },
     "metadata": {},
     "output_type": "display_data"
    },
    {
     "name": "stdout",
     "output_type": "stream",
     "text": [
      "Label: 7\n",
      "Digit at position 3\n"
     ]
    },
    {
     "data": {
      "image/png": "[encoded data removed]",
      "text/plain": [
       "<Figure size 640x480 with 1 Axes>"
      ]
     },
     "metadata": {},
     "output_type": "display_data"
    },
    {
     "name": "stdout",
     "output_type": "stream",
     "text": [
      "Label: 3\n"
     ]
    }
   ],
   "source": [
    "# display image and label\n",
    "b_idx = 1\n",
    "train_features, train_labels = next(iter(triple_train_loader))\n",
    "\n",
    "print(f\"Digit shape: {train_features[0].shape}\")\n",
    "print(f\"Digit type: {type(train_features[0])}\")\n",
    "print(f\"Target len: {len(train_labels[0])}\")\n",
    "print(f\"Target type: {type(train_labels[0])}\\n\")\n",
    "\n",
    "for digit_idx in range(3):\n",
    "    print(f\"Digit at position {digit_idx + 1}\")\n",
    "    im = train_features[digit_idx][b_idx]\n",
    "    label = train_labels[digit_idx][b_idx]\n",
    "    im = im.squeeze()\n",
    "    plt.imshow(im, cmap=\"gray\")\n",
    "    plt.show()\n",
    "    print(f\"Label: {label}\")"
   ]
  },
  {
   "cell_type": "markdown",
   "metadata": {
    "collapsed": false
   },
   "source": [
    "### Original MNIST Data Loading & Augmentation"
   ]
  },
  {
   "cell_type": "markdown",
   "metadata": {
    "collapsed": false
   },
   "source": [
    "I tried to train my CNN with custom data loader implemented above, however it took 1 hour for 1 epoch. This is due to the digits cropping operations performed for each image.\n",
    "\n",
    "So, in order to train my CNN, I needed to get the dataset with digits only. I could construct it from the triple MNIST dataset, however it would take a lot of effort (it's my first experience with PyTorch). The simpler way is to train the CNN on the original MNIST dataset. It is not prohibited by the assignment specs, yet fits common sense: the digits itself are identical in both datasets."
   ]
  },
  {
   "cell_type": "code",
   "execution_count": 70,
   "metadata": {
    "collapsed": false
   },
   "outputs": [],
   "source": [
    "batch_size = 128\n",
    "test_batch_size = 512\n",
    "\n",
    "mnist_transforms = transforms.Compose([\n",
    "    transforms.Grayscale(),\n",
    "    transforms.AutoAugment(transforms.AutoAugmentPolicy.SVHN),\n",
    "    transforms.ToTensor(),\n",
    "    transforms.Normalize((0.1307,), (0.3081,)),\n",
    "])\n",
    "\n",
    "mnist_train = datasets.MNIST('mnist', train=True, transform=mnist_transforms, download=True)\n",
    "mnist_train_50, mnist_val = torch.utils.data.random_split(mnist_train, [50000, 10000])\n",
    "mnist_test = datasets.MNIST('mnist', train=False, transform=mnist_transforms)\n",
    "\n",
    "mnist_train_loader = DataLoader(mnist_train, batch_size=batch_size, shuffle=True)\n",
    "mnist_train_50_loader = DataLoader(mnist_train_50, batch_size=batch_size, shuffle=True)\n",
    "mnist_val_loader = DataLoader(mnist_val, batch_size=test_batch_size, shuffle=True)\n",
    "mnist_test_loader = DataLoader(mnist_test, batch_size=test_batch_size, shuffle=True)"
   ]
  },
  {
   "cell_type": "code",
   "execution_count": 71,
   "metadata": {
    "collapsed": false
   },
   "outputs": [
    {
     "data": {
      "text/plain": [
       "60000"
      ]
     },
     "execution_count": 71,
     "metadata": {},
     "output_type": "execute_result"
    }
   ],
   "source": [
    "len(mnist_train)"
   ]
  },
  {
   "cell_type": "markdown",
   "metadata": {
    "collapsed": false
   },
   "source": [
    "### Model"
   ]
  },
  {
   "cell_type": "code",
   "execution_count": 63,
   "metadata": {
    "collapsed": false
   },
   "outputs": [],
   "source": [
    "class ConvLayer(NamedTuple):\n",
    "    in_channels: int\n",
    "    out_channels: int\n",
    "    kernel_size: int\n",
    "    padding: int\n",
    "    stride: int\n",
    "    dilation: int\n",
    "    activation: str\n",
    "    maxpool_kernel_size: int = None\n",
    "    dropout_proba: float = None\n",
    "    in_size: int = None\n",
    "\n",
    "\n",
    "def get_out_size_conv2d(in_size: int, padding: int, dilation: int, kernel_size: int, stride: int):\n",
    "    return int(np.floor((in_size + 2 * padding - dilation * (kernel_size - 1) - 1) / stride + 1))\n",
    "\n",
    "\n",
    "def get_out_size_pool(in_size: int, kernel_size: int, padding: int = 0, dilation: int = 1, stride: int = 2):\n",
    "    return int(np.floor((in_size + 2 * padding - dilation * (kernel_size - 1) - 1) / stride + 1))\n",
    "\n",
    "\n",
    "def get_out_size(conv: ConvLayer):\n",
    "    out_size = get_out_size_conv2d(conv.in_size, conv.padding, conv.dilation, conv.kernel_size, conv.stride)\n",
    "    if conv.maxpool_kernel_size:\n",
    "        out_size = get_out_size_pool(out_size, conv.maxpool_kernel_size)\n",
    "    return out_size"
   ]
  },
  {
   "cell_type": "code",
   "execution_count": 64,
   "metadata": {
    "collapsed": false
   },
   "outputs": [],
   "source": [
    "class CNN(nn.Module):\n",
    "    def __init__(self,\n",
    "                 conv_layers: List[ConvLayer],\n",
    "                 n_output: int = 10):\n",
    "        super(CNN, self).__init__()\n",
    "\n",
    "        layers = []\n",
    "        for i in range(len(conv_layers)):\n",
    "            if not conv_layers[i].in_size:\n",
    "                conv_layers[i] = conv_layers[i]._replace(in_size=get_out_size(conv_layers[i-1]))\n",
    "            conv_layer = conv_layers[i]\n",
    "            conv = nn.Conv2d(\n",
    "                conv_layer.in_channels,\n",
    "                conv_layer.out_channels,\n",
    "                conv_layer.kernel_size,\n",
    "                conv_layer.stride,\n",
    "                conv_layer.padding,\n",
    "                conv_layer.dilation,\n",
    "            )\n",
    "            layers.append(conv)\n",
    "            bn = nn.BatchNorm2d(conv_layer.out_channels)\n",
    "            layers.append(bn)\n",
    "            activation = getattr(nn, conv_layer.activation)()\n",
    "            layers.append(activation)\n",
    "            if conv_layer.maxpool_kernel_size:\n",
    "                maxpool = nn.MaxPool2d(conv_layer.maxpool_kernel_size, stride=2)\n",
    "                layers.append(maxpool)\n",
    "            if conv_layer.dropout_proba:\n",
    "                dropout = nn.Dropout(conv_layer.dropout_proba)\n",
    "                layers.append(dropout)\n",
    "\n",
    "        self.extractor = torch.nn.Sequential(*layers)\n",
    "\n",
    "        n_input = get_out_size(conv_layers[-1])\n",
    "        print(conv_layers[-1].maxpool_kernel_size)\n",
    "        print(f\"n_input: {n_input}\")\n",
    "        self.linear = nn.Linear(conv_layers[-1].out_channels * n_input ** 2, n_output)\n",
    "\n",
    "    def forward(self, x: torch.Tensor) -> torch.Tensor:\n",
    "        feature_map = self.extractor(x)\n",
    "        feature_vector = torch.flatten(feature_map, 1)\n",
    "        return self.linear(feature_vector)"
   ]
  },
  {
   "cell_type": "code",
   "execution_count": 65,
   "metadata": {
    "collapsed": false
   },
   "outputs": [],
   "source": [
    "def train_epoch_2(\n",
    "        model: torch.nn.Module,\n",
    "        optimizer: torch.optim.Optimizer,\n",
    "        loader: torch.utils.data.DataLoader,\n",
    "        criterion: torch.nn.modules.loss._Loss,\n",
    "        device: torch.device,\n",
    "        verbose: bool = False,\n",
    ") -> float:\n",
    "    model.train()\n",
    "    optimizer.zero_grad()\n",
    "\n",
    "    accum_loss = 0\n",
    "    total = len(loader.dataset)\n",
    "    if verbose:\n",
    "        loader = tqdm(loader, desc=\"Training\", total=len(loader), leave=True)\n",
    "    for input_data, target in loader:\n",
    "        input_data = input_data.to(device)\n",
    "        target = target.to(device)\n",
    "\n",
    "        predicted = model(input_data)\n",
    "\n",
    "        loss = criterion(predicted, target)\n",
    "        loss.backward()\n",
    "        optimizer.step()\n",
    "        optimizer.zero_grad()\n",
    "\n",
    "        accum_loss += loss.item()\n",
    "\n",
    "    return accum_loss / total"
   ]
  },
  {
   "cell_type": "code",
   "execution_count": 66,
   "metadata": {
    "collapsed": false
   },
   "outputs": [],
   "source": [
    "def eval_epoch_2(\n",
    "        model: torch.nn.Module,\n",
    "        loader: torch.utils.data.DataLoader,\n",
    "        criterion: torch.nn.modules.loss._Loss,\n",
    "        device: torch.device,\n",
    "        verbose: bool = False,\n",
    ") -> Tuple:\n",
    "    model.eval()\n",
    "\n",
    "    accum_loss = 0\n",
    "    acc = 0\n",
    "\n",
    "    total = len(loader.dataset)\n",
    "    with torch.no_grad():\n",
    "        if verbose:\n",
    "            loader = tqdm(loader, desc=\"Evaluation\", total=len(loader), leave=True)\n",
    "        for input_data, target in loader:\n",
    "            input_data = input_data.to(device)\n",
    "            target = target.to(device)\n",
    "\n",
    "            predicted = model(input_data)\n",
    "\n",
    "            loss = criterion(predicted, target)\n",
    "            accum_loss += loss.item()\n",
    "\n",
    "            acc += torch.sum(\n",
    "                torch.argmax(predicted, 1) == target\n",
    "            ).item()\n",
    "\n",
    "    loss = accum_loss / total\n",
    "    accuracy = acc / total\n",
    "    return loss, accuracy"
   ]
  },
  {
   "cell_type": "code",
   "execution_count": 67,
   "metadata": {
    "collapsed": false
   },
   "outputs": [],
   "source": [
    "def train_2(\n",
    "        num_epochs: int,\n",
    "        model: torch.nn.Module,\n",
    "        optimizer: torch.optim.Optimizer,\n",
    "        scheduler,\n",
    "        train_loader: torch.utils.data.DataLoader,\n",
    "        test_loader: torch.utils.data.DataLoader,\n",
    "        criterion: torch.nn.modules.loss._Loss,\n",
    "        device: torch.device\n",
    ") -> Tuple:\n",
    "\n",
    "    train_loss = []\n",
    "    val_loss = []\n",
    "    val_acc = []\n",
    "    for epoch in range(num_epochs):\n",
    "        loss = train_epoch_2(\n",
    "            model, optimizer, train_loader, criterion, device, verbose=True\n",
    "        )\n",
    "        train_loss.append(loss)\n",
    "        eval_loss, eval_accuracy = eval_epoch_2(\n",
    "            model, test_loader, criterion, device, verbose=True\n",
    "        )\n",
    "        val_loss.append(eval_loss)\n",
    "        val_acc.append(eval_accuracy)\n",
    "\n",
    "        scheduler.step()\n",
    "\n",
    "        print(f\"Epoch #{epoch}:\")\n",
    "        print(f\"Training Loss: {loss}\")\n",
    "        print(f\"Evaluation Loss: {eval_loss}\")\n",
    "        print(f\"Accuracy: {eval_accuracy}\")\n",
    "    return train_loss, val_loss, val_acc"
   ]
  },
  {
   "cell_type": "code",
   "execution_count": 70,
   "metadata": {
    "collapsed": false
   },
   "outputs": [
    {
     "name": "stdout",
     "output_type": "stream",
     "text": [
      "2\n",
      "n_input: 7\n",
      "CNN(\n",
      "  (extractor): Sequential(\n",
      "    (0): Conv2d(1, 16, kernel_size=(6, 6), stride=(1, 1))\n",
      "    (1): BatchNorm2d(16, eps=1e-05, momentum=0.1, affine=True, track_running_stats=True)\n",
      "    (2): ReLU()\n",
      "    (3): Conv2d(16, 32, kernel_size=(5, 5), stride=(1, 1))\n",
      "    (4): BatchNorm2d(32, eps=1e-05, momentum=0.1, affine=True, track_running_stats=True)\n",
      "    (5): ReLU()\n",
      "    (6): Conv2d(32, 64, kernel_size=(3, 3), stride=(1, 1))\n",
      "    (7): BatchNorm2d(64, eps=1e-05, momentum=0.1, affine=True, track_running_stats=True)\n",
      "    (8): LeakyReLU(negative_slope=0.01)\n",
      "    (9): Conv2d(64, 64, kernel_size=(3, 3), stride=(1, 1))\n",
      "    (10): BatchNorm2d(64, eps=1e-05, momentum=0.1, affine=True, track_running_stats=True)\n",
      "    (11): LeakyReLU(negative_slope=0.01)\n",
      "    (12): MaxPool2d(kernel_size=2, stride=2, padding=0, dilation=1, ceil_mode=False)\n",
      "    (13): Dropout(p=0.2, inplace=False)\n",
      "  )\n",
      "  (linear): Linear(in_features=3136, out_features=10, bias=True)\n",
      ")\n"
     ]
    }
   ],
   "source": [
    "conv_layers = [\n",
    "    ConvLayer(in_channels=1, out_channels=16, kernel_size=6, padding=0, stride=1, dilation=1,\n",
    "              activation=\"ReLU\", in_size=DIGIT_WIDTH_HEIGHT),\n",
    "    ConvLayer(in_channels=16, out_channels=32, kernel_size=5, padding=0, stride=1, dilation=1,\n",
    "              activation=\"ReLU\"),\n",
    "    ConvLayer(in_channels=32, out_channels=64, kernel_size=3, padding=0, stride=1, dilation=1,\n",
    "              activation=\"LeakyReLU\"),\n",
    "    ConvLayer(in_channels=64, out_channels=64, kernel_size=3, padding=0, stride=1, dilation=1,\n",
    "              activation=\"LeakyReLU\", maxpool_kernel_size=2, dropout_proba=0.2),\n",
    "]\n",
    "\n",
    "model_2 = CNN(conv_layers, NUM_CLASSES).to(DEVICE)\n",
    "print(model_2)\n",
    "\n",
    "optimizer_2 = torch.optim.SGD(model_2.parameters(), lr=0.01, momentum=0.7, nesterov=True, weight_decay=0.0001)\n",
    "scheduler_2 = torch.optim.lr_scheduler.StepLR(optimizer_2, step_size=2, gamma=0.05)\n",
    "\n",
    "criterion_2 = torch.nn.CrossEntropyLoss()"
   ]
  },
  {
   "cell_type": "code",
   "execution_count": 71,
   "metadata": {
    "collapsed": false
   },
   "outputs": [
    {
     "name": "stderr",
     "output_type": "stream",
     "text": [
      "Training: 100%|██████████| 469/469 [00:27<00:00, 16.90it/s]\n",
      "Evaluation: 100%|██████████| 20/20 [00:03<00:00,  5.04it/s]\n"
     ]
    },
    {
     "name": "stdout",
     "output_type": "stream",
     "text": [
      "Epoch #0:\n",
      "Training Loss: 0.004693997601171334\n",
      "Evaluation Loss: 0.0006030243456363678\n",
      "Accuracy: 0.9099\n"
     ]
    },
    {
     "name": "stderr",
     "output_type": "stream",
     "text": [
      "Training: 100%|██████████| 469/469 [00:26<00:00, 17.69it/s]\n",
      "Evaluation: 100%|██████████| 20/20 [00:03<00:00,  5.12it/s]"
     ]
    },
    {
     "name": "stdout",
     "output_type": "stream",
     "text": [
      "Epoch #1:\n",
      "Training Loss: 0.0024076845402518907\n",
      "Evaluation Loss: 0.00046825811713933945\n",
      "Accuracy: 0.9284\n"
     ]
    },
    {
     "name": "stderr",
     "output_type": "stream",
     "text": [
      "\n"
     ]
    }
   ],
   "source": [
    "num_epochs = 2\n",
    "\n",
    "training_results_2 = train_2(\n",
    "    num_epochs,\n",
    "    model_2,\n",
    "    optimizer_2,\n",
    "    scheduler_2,\n",
    "    mnist_train_loader,\n",
    "    mnist_test_loader,\n",
    "    criterion_2,\n",
    "    DEVICE\n",
    ")"
   ]
  },
  {
   "cell_type": "markdown",
   "metadata": {
    "collapsed": false
   },
   "source": [
    "### Fine-tuning"
   ]
  },
  {
   "cell_type": "code",
   "execution_count": 103,
   "metadata": {
    "collapsed": false
   },
   "outputs": [],
   "source": [
    "def define_model_2_trial(trial):\n",
    "    n_conv_layers = trial.suggest_int(\"n_conv_layers\", 2, 6)\n",
    "    conv_layers = []\n",
    "\n",
    "    in_channels = 1\n",
    "    for i in range(n_conv_layers):\n",
    "        if i == 0:\n",
    "            in_size = DIGIT_WIDTH_HEIGHT\n",
    "\n",
    "            out_channels_lim = in_channels * 24\n",
    "\n",
    "            kernel_size = trial.suggest_int(f\"kernel_size_cl{i}\", 3, int(DIGIT_WIDTH_HEIGHT / 3))\n",
    "\n",
    "            maxpool_kernel_size = None\n",
    "\n",
    "        else:\n",
    "            in_size = get_out_size(conv_layers[i-1])\n",
    "\n",
    "            out_channels_lim = in_channels * 3\n",
    "\n",
    "            try:\n",
    "                kernel_size = trial.suggest_int(f\"kernel_size_cl{i}\", 2, min(kernel_size, int(in_size / 3)))\n",
    "            except ValueError as e:\n",
    "                print(e)\n",
    "                break\n",
    "\n",
    "        padding = trial.suggest_int(f\"padding_cl{i}\", 0, 2)\n",
    "\n",
    "        stride_dilation_lim = max(\n",
    "            min(3, int(in_size / (kernel_size * 3))),\n",
    "            min(2, int(in_size / (kernel_size * 2)))\n",
    "        )\n",
    "        dilation = trial.suggest_int(f\"dilation_cl{i}\", 1, stride_dilation_lim)\n",
    "        stride = trial.suggest_int(f\"stride_cl{i}\", 1, stride_dilation_lim)\n",
    "\n",
    "        if i > 0:\n",
    "            in_size_ = get_out_size_conv2d(in_size=in_size, padding=padding, dilation=dilation, kernel_size=kernel_size, stride=stride)\n",
    "            maxpool_kernel_size_lim = in_size_ // 2\n",
    "            maxpool_kernel_size_lim = 1 if maxpool_kernel_size_lim < 1 else maxpool_kernel_size_lim\n",
    "            maxpool_kernel_size = trial.suggest_int(f\"maxpool_kernel_size_cl{i}\", 1, maxpool_kernel_size_lim)\n",
    "            while get_out_size_pool(in_size_, maxpool_kernel_size) < 2 and maxpool_kernel_size > 1:\n",
    "                maxpool_kernel_size -= 1\n",
    "            maxpool_kernel_size = None if maxpool_kernel_size == 1 else maxpool_kernel_size\n",
    "\n",
    "        out_channels = trial.suggest_int(f\"out_channels_cl{i}\", in_channels, out_channels_lim)\n",
    "\n",
    "        activation_name = trial.suggest_categorical(f\"activation_cl{i}\", [\"ReLU\", \"LeakyReLU\"])\n",
    "\n",
    "        dropout_proba = trial.suggest_uniform(\"dropout_cl{}\".format(i), 0, 0.5)\n",
    "\n",
    "        conv_layer = ConvLayer(in_channels=in_channels, out_channels=out_channels, kernel_size=kernel_size, padding=padding, stride=stride, dilation=dilation, activation=activation_name, maxpool_kernel_size=maxpool_kernel_size, dropout_proba=dropout_proba, in_size=in_size)\n",
    "        conv_layers.append(conv_layer)\n",
    "\n",
    "        in_channels = out_channels\n",
    "\n",
    "    return CNN(conv_layers, NUM_CLASSES)"
   ]
  },
  {
   "cell_type": "code",
   "execution_count": 104,
   "metadata": {
    "collapsed": false
   },
   "outputs": [],
   "source": [
    "def objective_2(trial):\n",
    "    # generate the model\n",
    "    model = define_model_2_trial(trial).to(DEVICE)\n",
    "    print(model)\n",
    "\n",
    "    # optimizer parameters\n",
    "    lr = trial.suggest_loguniform(\"lr\", 1e-5, 1e-2)\n",
    "    momentum = trial.suggest_uniform(\"momentum\", 0.4, 0.999)\n",
    "    nesterov = trial.suggest_int(\"nesterov\", 0, 1)\n",
    "    weight_decay = trial.suggest_uniform(\"weight_decay\", 0, 1e-3)\n",
    "\n",
    "    optimizer = torch.optim.SGD(model.parameters(), lr=lr, momentum=momentum, nesterov=nesterov, weight_decay=weight_decay)\n",
    "\n",
    "    # lr scheduler parameters\n",
    "    step_size = trial.suggest_int(\"step_size\", 1, 2)\n",
    "    gamma = trial.suggest_uniform(\"gamma\", 0.01, 0.9)\n",
    "\n",
    "    scheduler = torch.optim.lr_scheduler.StepLR(optimizer, step_size=step_size, gamma=gamma)\n",
    "\n",
    "    for epoch in range(1, num_epochs + 1):\n",
    "        print(f\"Epoch {epoch}...\")\n",
    "        train_loss = train_epoch_2(model, optimizer, mnist_train_50_loader, criterion_2, DEVICE, verbose=True)\n",
    "        val_loss, val_accuracy = eval_epoch_2(model, mnist_val_loader, criterion_2, DEVICE, verbose=True)\n",
    "        scheduler.step()\n",
    "        print(f\"Accuracy on val set: {val_accuracy}\")\n",
    "\n",
    "    return val_loss"
   ]
  },
  {
   "cell_type": "code",
   "execution_count": null,
   "metadata": {
    "collapsed": false
   },
   "outputs": [],
   "source": [
    "def print_study_stats(study):\n",
    "    pruned_trials = [t for t in study.trials if t.state == optuna.structs.TrialState.PRUNED]\n",
    "    complete_trials = [t for t in study.trials if t.state == optuna.structs.TrialState.COMPLETE]\n",
    "\n",
    "    print(\"Study statistics: \")\n",
    "    print(\"  Number of finished trials: \", len(study.trials))\n",
    "    print(\"  Number of pruned trials: \", len(pruned_trials))\n",
    "    print(\"  Number of complete trials: \", len(complete_trials))\n",
    "\n",
    "    print(\"Best trial:\")\n",
    "    trial = study.best_trial\n",
    "\n",
    "    print(\"  Value: \", trial.value)\n",
    "\n",
    "    print(\"  Params: \")\n",
    "    for key, value in trial.params.items():\n",
    "        print(\"    {}: {}\".format(key, value))"
   ]
  },
  {
   "cell_type": "code",
   "execution_count": null,
   "metadata": {
    "collapsed": false
   },
   "outputs": [],
   "source": [
    "sampler_2  = TPESampler(seed=RANDOM_STATE)\n",
    "pruner_2 = optuna.pruners.MedianPruner()\n",
    "study_2 = optuna.create_study(direction=\"minimize\", sampler=sampler_2, pruner=pruner_2)\n",
    "\n",
    "num_epochs = 4\n",
    "print(\"Study in process...\")\n",
    "study_2.optimize(objective_2, n_trials=250)\n",
    "\n",
    "print_study_stats(study_2)"
   ]
  },
  {
   "cell_type": "code",
   "execution_count": 74,
   "metadata": {
    "collapsed": false
   },
   "outputs": [
    {
     "name": "stdout",
     "output_type": "stream",
     "text": [
      "None\n",
      "n_input: 6\n",
      "CNN(\n",
      "  (extractor): Sequential(\n",
      "    (0): Conv2d(1, 23, kernel_size=(3, 3), stride=(2, 2), dilation=(3, 3))\n",
      "    (1): BatchNorm2d(23, eps=1e-05, momentum=0.1, affine=True, track_running_stats=True)\n",
      "    (2): ReLU()\n",
      "    (3): Dropout(p=0.2048, inplace=False)\n",
      "    (4): Conv2d(23, 58, kernel_size=(3, 3), stride=(1, 1), padding=(1, 1))\n",
      "    (5): BatchNorm2d(58, eps=1e-05, momentum=0.1, affine=True, track_running_stats=True)\n",
      "    (6): LeakyReLU(negative_slope=0.01)\n",
      "    (7): Dropout(p=0.2316, inplace=False)\n",
      "    (8): Conv2d(58, 112, kernel_size=(3, 3), stride=(1, 1))\n",
      "    (9): BatchNorm2d(112, eps=1e-05, momentum=0.1, affine=True, track_running_stats=True)\n",
      "    (10): LeakyReLU(negative_slope=0.01)\n",
      "    (11): Dropout(p=0.2316, inplace=False)\n",
      "    (12): Conv2d(112, 286, kernel_size=(3, 3), stride=(1, 1))\n",
      "    (13): BatchNorm2d(286, eps=1e-05, momentum=0.1, affine=True, track_running_stats=True)\n",
      "    (14): LeakyReLU(negative_slope=0.01)\n",
      "    (15): Dropout(p=0.1488, inplace=False)\n",
      "    (16): Conv2d(286, 563, kernel_size=(2, 2), stride=(1, 1))\n",
      "    (17): BatchNorm2d(563, eps=1e-05, momentum=0.1, affine=True, track_running_stats=True)\n",
      "    (18): ReLU()\n",
      "    (19): Dropout(p=0.0031, inplace=False)\n",
      "  )\n",
      "  (linear): Linear(in_features=20268, out_features=10, bias=True)\n",
      ")\n"
     ]
    }
   ],
   "source": [
    "conv_layers = [\n",
    "    ConvLayer(in_channels=1, out_channels=23, kernel_size=3, padding=0, stride=2, dilation=3,\n",
    "              activation=\"ReLU\", in_size=DIGIT_WIDTH_HEIGHT, dropout_proba=0.2048),\n",
    "    ConvLayer(in_channels=23, out_channels=58, kernel_size=3, padding=1, stride=1, dilation=1,\n",
    "              activation=\"LeakyReLU\", dropout_proba=0.2316),\n",
    "    ConvLayer(in_channels=58, out_channels=112, kernel_size=3, padding=0, stride=1, dilation=1,\n",
    "              activation=\"LeakyReLU\", dropout_proba=0.2316),\n",
    "    ConvLayer(in_channels=112, out_channels=286, kernel_size=3, padding=0, stride=1, dilation=1,\n",
    "              activation=\"LeakyReLU\", dropout_proba=0.1488),\n",
    "    ConvLayer(in_channels=286, out_channels=563, kernel_size=2, padding=0, stride=1, dilation=1,\n",
    "              activation=\"ReLU\", dropout_proba=0.0031),\n",
    "]\n",
    "\n",
    "model_2 = CNN(conv_layers, NUM_CLASSES).to(DEVICE)\n",
    "print(model_2)\n",
    "\n",
    "optimizer_2 = torch.optim.SGD(model_2.parameters(), lr=0.002208, momentum=0.965797, nesterov=False, weight_decay=5.376853e-05)\n",
    "scheduler_2 = torch.optim.lr_scheduler.StepLR(optimizer_2, step_size=2, gamma=0.13916)\n",
    "\n",
    "criterion_2 = torch.nn.CrossEntropyLoss()"
   ]
  },
  {
   "cell_type": "code",
   "execution_count": 76,
   "metadata": {
    "collapsed": false
   },
   "outputs": [
    {
     "name": "stderr",
     "output_type": "stream",
     "text": [
      "Training: 100%|██████████| 469/469 [00:29<00:00, 16.00it/s]\n",
      "Evaluation: 100%|██████████| 20/20 [00:03<00:00,  5.38it/s]\n"
     ]
    },
    {
     "name": "stdout",
     "output_type": "stream",
     "text": [
      "Epoch #0:\n",
      "Training Loss: 0.0037938996771971385\n",
      "Evaluation Loss: 0.0005451065093278885\n",
      "Accuracy: 0.9204\n"
     ]
    },
    {
     "name": "stderr",
     "output_type": "stream",
     "text": [
      "Training: 100%|██████████| 469/469 [00:30<00:00, 15.52it/s]\n",
      "Evaluation: 100%|██████████| 20/20 [00:03<00:00,  5.05it/s]\n"
     ]
    },
    {
     "name": "stdout",
     "output_type": "stream",
     "text": [
      "Epoch #1:\n",
      "Training Loss: 0.0028100369859486818\n",
      "Evaluation Loss: 0.00043098950386047364\n",
      "Accuracy: 0.9374\n"
     ]
    },
    {
     "name": "stderr",
     "output_type": "stream",
     "text": [
      "Training: 100%|██████████| 469/469 [00:29<00:00, 15.69it/s]\n",
      "Evaluation: 100%|██████████| 20/20 [00:03<00:00,  5.32it/s]\n"
     ]
    },
    {
     "name": "stdout",
     "output_type": "stream",
     "text": [
      "Epoch #2:\n",
      "Training Loss: 0.0017546434544026851\n",
      "Evaluation Loss: 0.00027455561831593513\n",
      "Accuracy: 0.9545\n"
     ]
    },
    {
     "name": "stderr",
     "output_type": "stream",
     "text": [
      "Training: 100%|██████████| 469/469 [00:29<00:00, 15.98it/s]\n",
      "Evaluation: 100%|██████████| 20/20 [00:03<00:00,  5.38it/s]\n"
     ]
    },
    {
     "name": "stdout",
     "output_type": "stream",
     "text": [
      "Epoch #3:\n",
      "Training Loss: 0.0015312805471320947\n",
      "Evaluation Loss: 0.0002608620226383209\n",
      "Accuracy: 0.9573\n"
     ]
    },
    {
     "name": "stderr",
     "output_type": "stream",
     "text": [
      "Training: 100%|██████████| 469/469 [00:29<00:00, 15.70it/s]\n",
      "Evaluation: 100%|██████████| 20/20 [00:03<00:00,  5.05it/s]"
     ]
    },
    {
     "name": "stdout",
     "output_type": "stream",
     "text": [
      "Epoch #4:\n",
      "Training Loss: 0.0014566465949639679\n",
      "Evaluation Loss: 0.00025730386078357697\n",
      "Accuracy: 0.959\n"
     ]
    },
    {
     "name": "stderr",
     "output_type": "stream",
     "text": [
      "\n"
     ]
    }
   ],
   "source": [
    "num_epochs = 5\n",
    "\n",
    "training_results_2 = train_2(\n",
    "    num_epochs,\n",
    "    model_2,\n",
    "    optimizer_2,\n",
    "    scheduler_2,\n",
    "    mnist_train_loader,\n",
    "    mnist_test_loader,\n",
    "    criterion_2,\n",
    "    DEVICE\n",
    ")"
   ]
  },
  {
   "cell_type": "markdown",
   "metadata": {
    "collapsed": false
   },
   "source": [
    "### Triple MNIST prediction"
   ]
  },
  {
   "cell_type": "code",
   "execution_count": 68,
   "metadata": {
    "collapsed": false
   },
   "outputs": [],
   "source": [
    "def test_triple(\n",
    "        model: torch.nn.Module,\n",
    "        num_digits: int,\n",
    "        loader: torch.utils.data.DataLoader,\n",
    "        criterion: torch.nn.modules.loss._Loss,\n",
    "        device: torch.device,\n",
    "        verbose: bool = False,\n",
    ") -> Tuple:\n",
    "    model.eval()\n",
    "\n",
    "    accum_loss = 0\n",
    "    acc = 0\n",
    "    per_digit_ctr = torch.tensor([0.] * 10).to(device)\n",
    "    per_digit_acc = torch.tensor([0.] * 10).to(device)\n",
    "\n",
    "    total = len(loader.dataset)\n",
    "    with torch.no_grad():\n",
    "        if verbose:\n",
    "            loader = tqdm(loader, desc=\"Evaluation\", total=None, leave=True)\n",
    "        for input_data_list, target_list in loader:\n",
    "            # construct the 3-digit prediction\n",
    "            matches = None\n",
    "            for num_digit in range(num_digits):\n",
    "                input_data = input_data_list[num_digit]\n",
    "                input_data = input_data.to(device)\n",
    "                target = target_list[num_digit]\n",
    "                target = target.to(device)\n",
    "\n",
    "                predictions = model(input_data)\n",
    "\n",
    "                if matches is None:\n",
    "                    matches = torch.tensor([True] * len(target)).to(device)\n",
    "                matches *= torch.argmax(predictions, 1) == target\n",
    "\n",
    "                per_digit_correct_idx = target[torch.flatten(torch.nonzero(matches))]\n",
    "                n_examples = torch.tensor([1.] * len(target)).to(device)\n",
    "                per_digit_ctr.index_add_(dim=0, index=target, source=n_examples)\n",
    "                n_corrects = torch.tensor([1.] * len(per_digit_correct_idx)).to(device)\n",
    "                per_digit_acc.index_add_(dim=0, index=per_digit_correct_idx, source=n_corrects)\n",
    "\n",
    "            # modify the metrics variables according to the last prediction\n",
    "            acc += sum(matches).item()\n",
    "\n",
    "            loss = criterion(predictions, target)\n",
    "            accum_loss += loss.item()\n",
    "\n",
    "    loss = accum_loss / total\n",
    "    accuracy = acc / total\n",
    "    num_predicted_digits = (total * num_digits)\n",
    "    one_digit_accuracy = sum(per_digit_acc).item() / num_predicted_digits\n",
    "    per_digit_accuracies = per_digit_acc / per_digit_ctr\n",
    "\n",
    "    return loss, accuracy, one_digit_accuracy, per_digit_accuracies"
   ]
  },
  {
   "cell_type": "code",
   "execution_count": 78,
   "metadata": {
    "collapsed": false
   },
   "outputs": [
    {
     "name": "stderr",
     "output_type": "stream",
     "text": [
      "Evaluation: 100%|██████████| 1/1 [00:15<00:00, 15.33s/it]"
     ]
    },
    {
     "name": "stdout",
     "output_type": "stream",
     "text": [
      "Triple MNIST test set average Cross Entropy Loss: 0.0000043\n",
      "Triple MNIST test set Accuracy: 0.9413\n",
      "Triple MNIST test set one-digit Accuracy: 0.9599\n",
      "Triple MNIST test set per-digit Accuracies:\n",
      "tensor([0.9727, 0.9716, 0.9594, 0.9634, 0.9486, 0.9567, 0.9623, 0.9622, 0.9603,\n",
      "        0.9428], device='cuda:0')\n"
     ]
    },
    {
     "name": "stderr",
     "output_type": "stream",
     "text": [
      "\n"
     ]
    }
   ],
   "source": [
    "triple_loss, triple_accuracy, triple_one_digit_accuracy, triple_per_digit_accuracies =\\\n",
    "    test_triple(\n",
    "        model_2,\n",
    "        NUM_DIGITS,\n",
    "        triple_test_loader,\n",
    "        criterion_2,\n",
    "        DEVICE,\n",
    "        verbose=True\n",
    "    )\n",
    "\n",
    "print(f'\\rTriple MNIST test set average Cross Entropy Loss: {triple_loss:.7f}')\n",
    "print(f'\\rTriple MNIST test set Accuracy: {triple_accuracy:.4f}')\n",
    "print(f'\\rTriple MNIST test set one-digit Accuracy: {triple_one_digit_accuracy:.4f}')\n",
    "print(f'\\rTriple MNIST test set per-digit Accuracies:\\n{triple_per_digit_accuracies}')"
   ]
  }
 ],
 "metadata": {
  "kernelspec": {
   "display_name": "Python 3.10.6 64-bit",
   "language": "python",
   "name": "python3"
  },
  "language_info": {
   "codemirror_mode": {
    "name": "ipython",
    "version": 2
   },
   "file_extension": ".py",
   "mimetype": "text/x-python",
   "name": "python",
   "nbconvert_exporter": "python",
   "pygments_lexer": "ipython2",
   "version": "3.10.6"
  },
  "vscode": {
   "interpreter": {
    "hash": "916dbcbb3f70747c44a77c7bcd40155683ae19c65e1c03b4aa3499c5328201f1"
   }
  }
 },
 "nbformat": 4,
 "nbformat_minor": 0
}
